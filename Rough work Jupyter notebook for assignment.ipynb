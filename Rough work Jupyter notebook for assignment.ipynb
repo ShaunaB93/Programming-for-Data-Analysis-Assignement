{
 "cells": [
  {
   "cell_type": "markdown",
   "metadata": {},
   "source": [
    "# Numpy.random assignment workings notebook"
   ]
  },
  {
   "cell_type": "markdown",
   "metadata": {},
   "source": [
    "## Explanation of the overall purpose of the numpy.random package -\n",
    "\n",
    "Python documentation - The python built in random function implements pseudo-randomer number generators for various distributions. \n",
    "(Python Docs) - The numpy.random function is known to expand the uses of the python built in random function. It includes functions for generating whole arrays of values from  probably distributions. It is widely used due to the additional functionality available and being more efficient in producing the required results than the built in python function. \n",
    "\n",
    "(berk) As we have numerous requires from producing random number data sets for testing this submodule, numpy.random, can be useful on such occasions.\n",
    "\n",
    "It has various functions each useful in different instances. Some examples will follow -\n"
   ]
  },
  {
   "cell_type": "markdown",
   "metadata": {},
   "source": [
    "## Produce table of numpy.random functions"
   ]
  },
  {
   "cell_type": "markdown",
   "metadata": {},
   "source": [
    "## Simple random data\" explanation - \n",
    "\n"
   ]
  },
  {
   "cell_type": "code",
   "execution_count": null,
   "metadata": {},
   "outputs": [],
   "source": []
  }
 ],
 "metadata": {
  "kernelspec": {
   "display_name": "Python 3",
   "language": "python",
   "name": "python3"
  },
  "language_info": {
   "codemirror_mode": {
    "name": "ipython",
    "version": 3
   },
   "file_extension": ".py",
   "mimetype": "text/x-python",
   "name": "python",
   "nbconvert_exporter": "python",
   "pygments_lexer": "ipython3",
   "version": "3.7.0"
  }
 },
 "nbformat": 4,
 "nbformat_minor": 2
}
