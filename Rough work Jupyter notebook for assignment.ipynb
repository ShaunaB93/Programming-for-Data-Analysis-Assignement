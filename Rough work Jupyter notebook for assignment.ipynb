{
 "cells": [
  {
   "cell_type": "markdown",
   "metadata": {},
   "source": [
    "# Numpy.random assignment workings notebook"
   ]
  },
  {
   "cell_type": "markdown",
   "metadata": {},
   "source": [
    "## Explanation of the overall purpose of the numpy.random package -\n",
    "\n",
    "Python documentation - The python built in random function implements pseudo-randomer number generators for various distributions. \n",
    "(Python Docs) - The numpy.random function is known to expand the uses of the python built in random function. It includes functions for generating whole arrays of values from  probably distributions. It is widely used due to the additional functionality available and being more efficient in producing the required results than the built in python function. \n",
    "\n",
    "(berk) As we have numerous requires from producing random number data sets for testing this submodule, numpy.random, can be useful on such occasions.\n",
    "\n",
    "It has various functions each useful in different instances. Some examples will follow -\n"
   ]
  },
  {
   "cell_type": "markdown",
   "metadata": {},
   "source": [
    "## Produce table of numpy.random functions"
   ]
  },
  {
   "cell_type": "markdown",
   "metadata": {},
   "source": [
    "## Simple random data\" explanation - \n",
    "\n"
   ]
  },
  {
   "cell_type": "code",
   "execution_count": null,
   "metadata": {},
   "outputs": [],
   "source": [
    "Numpy.random assignment workings notebook\n",
    "\n",
    "Explanation of the overall purpose of the numpy.random package -\n",
    "Python documentation - The python built in random function implements pseudo-randomer number generators for various distributions. (Python Docs) - The numpy.random function is known to expand the uses of the python built in random function. It includes functions for generating whole arrays of values from probably distributions. It is widely used due to the additional functionality available and being more efficient in producing the required results than the built in python function.\n",
    "​\n",
    "(berk) As we have numerous requires from producing random number data sets for testing this submodule, numpy.random, can be useful on such occasions.\n",
    "​\n",
    "It has various functions each useful in different instances. Some examples will follow -\n",
    "​\n",
    "Produce table of numpy.random functions\n",
    "Simple random data\" explanation -¶\n",
    "​\n",
    "\n",
    "# Overall purpose of numpy.random package in Python - \n",
    "​\n",
    "The numpy.random package in python is useful for data analysis due to its ability to generate an array of random numbers using either the \"rand(), randn() or randint()\" functions.\n",
    "​\n",
    "It is particularly useful for hypothesis testing in data analysis due to its ability to provide a test sample of data. Sampling is known to be one of the most important useful factors in determining the accuracy of research during a project. As open source datasets can have a number of outliers or errors it can affect any testing as the results are reflective of the testing and the data used. By ruling out the errors which can be present in open datasets using this package it is more indicative or errors within the hypothesis when testing. This is a major advantage of having access to this package in python for data analysts during testing.\n",
    "​\n",
    "​\n",
    "Use of \"Simple Random Data\" -\n",
    "Examples of \"Simple Random Data\" functions from numpy.random package -\n",
    "Simple.PNG\n",
    "\n",
    "Above are the examples of the different functions available in the numpy.random package which fall under the \"Simple random data category\". They fall under \"Simple random data\" due to - . Please see below for examples of some of the functions mentioned in the diagram above -\n",
    "\n",
    "Numpy.Random.Rand -\n",
    "As mentioned in the diagram above this function provides random values in a given shape in an array. For example the function input below -\n",
    "\n",
    "\n",
    "# Example 1 - \n",
    "import numpy as np\n",
    "np.random.rand(5,3)\n",
    "​\n",
    "array([[0.37264354, 0.14647072, 0.88512348],\n",
    "       [0.45362676, 0.20223693, 0.22239563],\n",
    "       [0.98635187, 0.4267969 , 0.54886398],\n",
    "       [0.15236514, 0.98726247, 0.04101239],\n",
    "       [0.57456524, 0.98815382, 0.07355501]])\n",
    "\n",
    "# Example 2 -\n",
    "np.random.rand(2,2)\n",
    "​\n",
    "array([[0.05074761, 0.03660147],\n",
    "       [0.00967197, 0.42957437]])\n",
    "\n",
    "# Example 3 -\n",
    "np.random.rand(1,3)\n",
    "array([[0.67408564, 0.06129761, 0.62688975]])\n",
    "\n",
    "Function Output - \n",
    "Function Output - As can be seen from the examples above, this function can be useful for producing arrays within a given shape for values between [0, 1)\n",
    "\n",
    "​"
   ]
  }
 ],
 "metadata": {
  "kernelspec": {
   "display_name": "Python 3",
   "language": "python",
   "name": "python3"
  },
  "language_info": {
   "codemirror_mode": {
    "name": "ipython",
    "version": 3
   },
   "file_extension": ".py",
   "mimetype": "text/x-python",
   "name": "python",
   "nbconvert_exporter": "python",
   "pygments_lexer": "ipython3",
   "version": "3.7.0"
  }
 },
 "nbformat": 4,
 "nbformat_minor": 2
}
